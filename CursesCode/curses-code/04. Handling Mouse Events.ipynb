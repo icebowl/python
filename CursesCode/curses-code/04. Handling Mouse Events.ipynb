{
 "cells": [
  {
   "cell_type": "markdown",
   "metadata": {},
   "source": [
    "# <center><u>Introduction to curses in Python (Part-4)</u></center><br><center>Handling Mouse Events</center>\n",
    "\n",
    "![](images/8.png)"
   ]
  },
  {
   "cell_type": "markdown",
   "metadata": {},
   "source": [
    "## 1. Enabling Mouse Click Detection\n",
    "\n",
    "### `curses.mousemask(mousemask)`\n",
    "\n",
    "Set the mouse events to be reported. To detect simple mouse click, you can set `mousemask` as 1.\n",
    "\n",
    "\n",
    "Now, any mouse click event can be reported as:\n",
    "\n",
    "```python\n",
    "\n",
    "key = stdscr.getch()\n",
    "\n",
    "if key == curses.KEY_MOUSE:\n",
    "    stdscr.addstr(0, 0, \"You clicked!\")\n",
    "```\n",
    "\n",
    "### `curses.getmouse()`\n",
    "\n",
    "- After `getch()` returns `KEY_MOUSE` to signal a mouse event, this method should be called to retrieve the queued mouse event, represented as a 5-tuple `(id, x, y, z, bstate)`. \n",
    "\n",
    "- `id` is an ID value used to distinguish multiple devices, and `x, y, z` are the event’s coordinates. (`z` is currently unused.) `bstate` is an integer value whose bits will be set to indicate the type of event.\n",
    "\n",
    "- So now, we can get the coordinates of mouse click as:\n",
    "\n",
    "```python\n",
    "key = stdscr.getch()\n",
    "\n",
    "if key == curses.KEY_MOUSE:\n",
    "    _, x, y, _, _ = curses.getmouse()\n",
    "    stdscr.addstr(0, 0, \"({}, {})\".format(y, x))\n",
    "```"
   ]
  },
  {
   "cell_type": "markdown",
   "metadata": {},
   "source": [
    "## 2. A simple application\n",
    "\n",
    "Let's create a simple application in which there are 2 buttons, `Red` and `Green`. When the user clicks on `Red` button, a text should turn red. On clicking on `Green`, the text should turn green.\n",
    "\n",
    "## Example 9\n",
    "\n",
    "```python\n",
    "import curses\n",
    "\n",
    "\n",
    "def main(stdscr):\n",
    "\tcurses.curs_set(0)\n",
    "\tcurses.mousemask(1)\n",
    "\tcurses.init_pair(1, curses.COLOR_WHITE, curses.COLOR_RED)\n",
    "\tcurses.init_pair(2, curses.COLOR_WHITE, curses.COLOR_GREEN)\n",
    "\n",
    "\tstdscr.addstr(0, 0, \"Hello!\")\n",
    "\tstdscr.addstr(1, 0, \"Red\")\n",
    "\tstdscr.addstr(2, 0, \"Green\")\n",
    "\n",
    "\twhile 1:\n",
    "\t\tstdscr.refresh()\n",
    "\t\tkey = stdscr.getch()\n",
    "\n",
    "\t\tif key == curses.KEY_MOUSE:\n",
    "\t\t\t_, x, y, _, _ = curses.getmouse()\n",
    "\t\t\tif y == 1 and x in range(3):\n",
    "\t\t\t\tstdscr.attron(curses.color_pair(1))\n",
    "\t\t\t\tstdscr.addstr(0, 0, \"Hello!\")\n",
    "\t\t\t\tstdscr.attroff(curses.color_pair(1))\n",
    "\t\t\telif y == 2 and x in range(5):\n",
    "\t\t\t\tstdscr.attron(curses.color_pair(2))\n",
    "\t\t\t\tstdscr.addstr(0, 0, \"Hello!\")\n",
    "\t\t\t\tstdscr.attroff(curses.color_pair(2))\n",
    "\t\telif key == 27:\n",
    "\t\t\tbreak\n",
    "\n",
    "\n",
    "curses.wrapper(main)\n",
    "\n",
    "```"
   ]
  }
 ],
 "metadata": {
  "kernelspec": {
   "display_name": "Python 3",
   "language": "python",
   "name": "python3"
  },
  "language_info": {
   "codemirror_mode": {
    "name": "ipython",
    "version": 3
   },
   "file_extension": ".py",
   "mimetype": "text/x-python",
   "name": "python",
   "nbconvert_exporter": "python",
   "pygments_lexer": "ipython3",
   "version": "3.6.7"
  }
 },
 "nbformat": 4,
 "nbformat_minor": 2
}
